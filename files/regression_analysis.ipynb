{
 "cells": [
  {
   "cell_type": "markdown",
   "metadata": {},
   "source": [
    "# Regression Analysis"
   ]
  },
  {
   "cell_type": "code",
   "execution_count": 24,
   "metadata": {},
   "outputs": [],
   "source": [
    "import numpy as np\n",
    "import pandas as pd\n",
    "from statsmodels.formula.api import ols\n",
    "import matplotlib.pyplot as plt\n",
    "import warnings\n",
    "\n",
    "from datetime import datetime\n",
    "from pytz import timezone\n",
    "import pytz\n",
    "\n",
    "plt.style.use('fivethirtyeight')\n",
    "warnings.filterwarnings('ignore')"
   ]
  },
  {
   "cell_type": "markdown",
   "metadata": {},
   "source": [
    "## Load the data"
   ]
  },
  {
   "cell_type": "code",
   "execution_count": 49,
   "metadata": {},
   "outputs": [
    {
     "data": {
      "text/html": [
       "<div>\n",
       "<style scoped>\n",
       "    .dataframe tbody tr th:only-of-type {\n",
       "        vertical-align: middle;\n",
       "    }\n",
       "\n",
       "    .dataframe tbody tr th {\n",
       "        vertical-align: top;\n",
       "    }\n",
       "\n",
       "    .dataframe thead th {\n",
       "        text-align: right;\n",
       "    }\n",
       "</style>\n",
       "<table border=\"1\" class=\"dataframe\">\n",
       "  <thead>\n",
       "    <tr style=\"text-align: right;\">\n",
       "      <th></th>\n",
       "      <th>Time</th>\n",
       "      <th>None</th>\n",
       "      <th>Price</th>\n",
       "      <th>Duration</th>\n",
       "      <th>Distance</th>\n",
       "      <th>Wait_Time</th>\n",
       "    </tr>\n",
       "  </thead>\n",
       "  <tbody>\n",
       "    <tr>\n",
       "      <th>0</th>\n",
       "      <td>2018-11-08 17:51:51.493805</td>\n",
       "      <td>1541699632</td>\n",
       "      <td>8.71</td>\n",
       "      <td>960</td>\n",
       "      <td>3.27</td>\n",
       "      <td>4</td>\n",
       "    </tr>\n",
       "    <tr>\n",
       "      <th>1</th>\n",
       "      <td>2018-11-08 17:55:56.128564</td>\n",
       "      <td>1541699877</td>\n",
       "      <td>8.71</td>\n",
       "      <td>960</td>\n",
       "      <td>3.27</td>\n",
       "      <td>3</td>\n",
       "    </tr>\n",
       "    <tr>\n",
       "      <th>2</th>\n",
       "      <td>2018-11-08 17:56:57.918118</td>\n",
       "      <td>1541699939</td>\n",
       "      <td>8.71</td>\n",
       "      <td>960</td>\n",
       "      <td>3.27</td>\n",
       "      <td>2</td>\n",
       "    </tr>\n",
       "    <tr>\n",
       "      <th>3</th>\n",
       "      <td>2018-11-08 17:57:59.659881</td>\n",
       "      <td>1541700001</td>\n",
       "      <td>8.71</td>\n",
       "      <td>960</td>\n",
       "      <td>3.27</td>\n",
       "      <td>2</td>\n",
       "    </tr>\n",
       "    <tr>\n",
       "      <th>4</th>\n",
       "      <td>2018-11-08 17:59:01.625413</td>\n",
       "      <td>1541700063</td>\n",
       "      <td>8.71</td>\n",
       "      <td>960</td>\n",
       "      <td>3.27</td>\n",
       "      <td>4</td>\n",
       "    </tr>\n",
       "  </tbody>\n",
       "</table>\n",
       "</div>"
      ],
      "text/plain": [
       "                         Time        None  Price  Duration  Distance  \\\n",
       "0  2018-11-08 17:51:51.493805  1541699632   8.71       960      3.27   \n",
       "1  2018-11-08 17:55:56.128564  1541699877   8.71       960      3.27   \n",
       "2  2018-11-08 17:56:57.918118  1541699939   8.71       960      3.27   \n",
       "3  2018-11-08 17:57:59.659881  1541700001   8.71       960      3.27   \n",
       "4  2018-11-08 17:59:01.625413  1541700063   8.71       960      3.27   \n",
       "\n",
       "   Wait_Time  \n",
       "0          4  \n",
       "1          3  \n",
       "2          2  \n",
       "3          2  \n",
       "4          4  "
      ]
     },
     "execution_count": 49,
     "metadata": {},
     "output_type": "execute_result"
    }
   ],
   "source": [
    "uberx = pd.read_csv('UberPriceTrackX.csv',header=None)\n",
    "uberx.columns = ['Time','None','Price','Duration','Distance','Wait_Time']\n",
    "uberx.head()"
   ]
  },
  {
   "cell_type": "markdown",
   "metadata": {},
   "source": [
    "## Convert time to Local Time"
   ]
  },
  {
   "cell_type": "code",
   "execution_count": 50,
   "metadata": {},
   "outputs": [],
   "source": [
    "def time_converter(Data):\n",
    "    \n",
    "    \"\"\"\n",
    "    Converts given time from UTC to specified timezone\n",
    "    \"\"\"\n",
    "    date = list(Data['Time'])\n",
    "\n",
    "    converted_date = []\n",
    "    \n",
    "    for date in date:\n",
    "        converted_date.append(convert_time(date))\n",
    "\n",
    "    Data['Converted Time'] = converted_date\n",
    "    Data_df = Data[['Time','Converted Time','Price','Duration','Distance','Wait_Time']]\n",
    "    \n",
    "    return Data_df, converted_date\n",
    "\n",
    "def convert_time(dt):\n",
    "    \n",
    "    \"\"\"\n",
    "    Converts given time from UTC to specified timezone\n",
    "    Also removes pytz timezone information as to not mess with plotting\n",
    "    \"\"\"\n",
    "    \n",
    "    date_format='%Y-%m-%d %H:%M:%S.%f'\n",
    "\n",
    "    date_current_utc = datetime.strptime(dt, date_format)\n",
    "    date_current_utc = pytz.utc.localize(date_current_utc).astimezone(pytz.UTC)\n",
    "    \n",
    "    date_changed = date_current_utc.astimezone(timezone('US/Pacific'))\n",
    "    \n",
    "    # Remove timezone information cause it messes with the plotting\n",
    "    date_changed = date_changed.replace(tzinfo=None)\n",
    "    return date_changed"
   ]
  },
  {
   "cell_type": "code",
   "execution_count": 51,
   "metadata": {},
   "outputs": [],
   "source": [
    "Data_X, Converted_Date_X = time_converter(uberx)"
   ]
  },
  {
   "cell_type": "markdown",
   "metadata": {},
   "source": [
    "### Obtain daily time values for the Weekdays"
   ]
  },
  {
   "cell_type": "code",
   "execution_count": 72,
   "metadata": {},
   "outputs": [],
   "source": [
    "def get_hour_minute(s): \n",
    "    hours = s['Converted Time'].dt.hour.map(str)\n",
    "    minutes = s['Converted Time'].dt.minute.map(str)\n",
    "    \n",
    "    hour_minute = hours + ':' + minutes\n",
    "    s = []\n",
    "    for i in hour_minute:\n",
    "        s.append(datetime.strptime(i, '%H:%M'))\n",
    "    return s\n",
    "\n",
    "def get_day(Uber_data):\n",
    "    Uber_data['days'] = pd.to_datetime(Uber_data['Converted Time']).dt.day_name()\n",
    "    Uber_data['hour_minute'] = get_hour_minute(Uber_data)\n",
    "    return Uber_data"
   ]
  },
  {
   "cell_type": "code",
   "execution_count": 136,
   "metadata": {},
   "outputs": [],
   "source": [
    "# Find out what day it is for each record\n",
    "Data_X = get_day(Data_X)\n",
    "\n",
    "# Remove Saturday and Sunday\n",
    "Data_X_Weekdays = Data_X.drop(Data_X[(Data_X['days'] == 'Saturday') | (Data_X['days'] == 'Sunday')].index)\n",
    "\n",
    "# Drop 'Time, 'Converted Time', and 'days' columns to clean up\n",
    "Data_X_Weekdays = Data_X_Weekdays.drop(columns=['Time','Converted Time','days'])\n",
    "\n",
    "# Reset index to clean up\n",
    "Data_X_Weekdays = Data_X_Weekdays.reset_index(drop=True)"
   ]
  },
  {
   "cell_type": "markdown",
   "metadata": {},
   "source": [
    "Now let us visualize the distribution of price throughout the day."
   ]
  },
  {
   "cell_type": "code",
   "execution_count": 154,
   "metadata": {},
   "outputs": [
    {
     "data": {
      "image/png": "[encoded data removed]",
      "text/plain": [
       "<Figure size 1152x576 with 1 Axes>"
      ]
     },
     "metadata": {},
     "output_type": "display_data"
    }
   ],
   "source": [
    "# Simple Plot\n",
    "plt.figure(figsize=(16,8))\n",
    "\n",
    "plt.plot_date(Data_X_Weekdays['hour_minute'],Data_X_Weekdays['Price'],alpha=0.1)#,c=Data_X_Weekdays['days'].apply(lambda x: colors[x]))\n",
    "plt.title('Price vs Time of Day')\n",
    "plt.xlabel('Time of Day')\n",
    "plt.ylabel('Trip Price ($)')\n",
    "\n",
    "plt.show()"
   ]
  },
  {
   "cell_type": "markdown",
   "metadata": {},
   "source": [
    "We can observe that time of day has a cyclical relationship with price. Generally, prices go up during the day, and go down deep at night when people are home or asleep. Hence, it would not make sense to directly utilize this as an independent variable in an Ordinary Least Squares analysis. Instead, we categorized the day into bins and treat them as categorical data. Based on and general information and the plot above, we can divide the data into four mutually exclusive categories - AM Peak (6AM to 9AM), Midday (9AM to 4PM), PM Peak (4PM to 8PM), and Night (8PM to 6AM). Now, this categorization can be subjective and can be tweaked in many ways. For the purpose of this exercise, these are the categories that will be used."
   ]
  },
  {
   "cell_type": "markdown",
   "metadata": {},
   "source": [
    "### Convert time data to categorical"
   ]
  },
  {
   "cell_type": "markdown",
   "metadata": {},
   "source": [
    "Because they are mutually exclusive, we will need 3 columns to represent the 4 categories. The columns will be 'AM Peak', 'Midday', and 'PM Peak'. If the value is 0 for all three columns, that would indicate 'Night'."
   ]
  },
  {
   "cell_type": "code",
   "execution_count": 145,
   "metadata": {},
   "outputs": [
    {
     "data": {
      "text/html": [
       "<div>\n",
       "<style scoped>\n",
       "    .dataframe tbody tr th:only-of-type {\n",
       "        vertical-align: middle;\n",
       "    }\n",
       "\n",
       "    .dataframe tbody tr th {\n",
       "        vertical-align: top;\n",
       "    }\n",
       "\n",
       "    .dataframe thead th {\n",
       "        text-align: right;\n",
       "    }\n",
       "</style>\n",
       "<table border=\"1\" class=\"dataframe\">\n",
       "  <thead>\n",
       "    <tr style=\"text-align: right;\">\n",
       "      <th></th>\n",
       "      <th>Price</th>\n",
       "      <th>Duration</th>\n",
       "      <th>Distance</th>\n",
       "      <th>Wait_Time</th>\n",
       "      <th>hour_minute</th>\n",
       "      <th>Time_Of_Day</th>\n",
       "    </tr>\n",
       "  </thead>\n",
       "  <tbody>\n",
       "    <tr>\n",
       "      <th>0</th>\n",
       "      <td>8.71</td>\n",
       "      <td>960</td>\n",
       "      <td>3.27</td>\n",
       "      <td>4</td>\n",
       "      <td>1900-01-01 09:51:00</td>\n",
       "      <td>Midday</td>\n",
       "    </tr>\n",
       "    <tr>\n",
       "      <th>1</th>\n",
       "      <td>8.71</td>\n",
       "      <td>960</td>\n",
       "      <td>3.27</td>\n",
       "      <td>3</td>\n",
       "      <td>1900-01-01 09:55:00</td>\n",
       "      <td>Midday</td>\n",
       "    </tr>\n",
       "    <tr>\n",
       "      <th>2</th>\n",
       "      <td>8.71</td>\n",
       "      <td>960</td>\n",
       "      <td>3.27</td>\n",
       "      <td>2</td>\n",
       "      <td>1900-01-01 09:56:00</td>\n",
       "      <td>Midday</td>\n",
       "    </tr>\n",
       "    <tr>\n",
       "      <th>3</th>\n",
       "      <td>8.71</td>\n",
       "      <td>960</td>\n",
       "      <td>3.27</td>\n",
       "      <td>2</td>\n",
       "      <td>1900-01-01 09:57:00</td>\n",
       "      <td>Midday</td>\n",
       "    </tr>\n",
       "    <tr>\n",
       "      <th>4</th>\n",
       "      <td>8.71</td>\n",
       "      <td>960</td>\n",
       "      <td>3.27</td>\n",
       "      <td>4</td>\n",
       "      <td>1900-01-01 09:59:00</td>\n",
       "      <td>Midday</td>\n",
       "    </tr>\n",
       "  </tbody>\n",
       "</table>\n",
       "</div>"
      ],
      "text/plain": [
       "   Price  Duration  Distance  Wait_Time         hour_minute Time_Of_Day\n",
       "0   8.71       960      3.27          4 1900-01-01 09:51:00      Midday\n",
       "1   8.71       960      3.27          3 1900-01-01 09:55:00      Midday\n",
       "2   8.71       960      3.27          2 1900-01-01 09:56:00      Midday\n",
       "3   8.71       960      3.27          2 1900-01-01 09:57:00      Midday\n",
       "4   8.71       960      3.27          4 1900-01-01 09:59:00      Midday"
      ]
     },
     "execution_count": 145,
     "metadata": {},
     "output_type": "execute_result"
    }
   ],
   "source": [
    "# Create New Column Initialized to 'Night'\n",
    "Data_X_Weekdays['Time_Of_Day'] = '0_Night'\n",
    "\n",
    "# Categorize AM Peak\n",
    "Data_X_Weekdays.loc[(Data_X_Weekdays['hour_minute'] > '1900-01-01 06:00:00') &\n",
    "                    (Data_X_Weekdays['hour_minute'] < '1900-01-01 09:00:00'),'Time_Of_Day'] = 'AM_Peak'\n",
    "\n",
    "# Categorize Midday\n",
    "Data_X_Weekdays.loc[(Data_X_Weekdays['hour_minute'] > '1900-01-01 09:00:00') &\n",
    "                    (Data_X_Weekdays['hour_minute'] < '1900-01-01 16:00:00'),'Time_Of_Day'] = 'Midday'\n",
    "\n",
    "# Categorize PM Peak\n",
    "Data_X_Weekdays.loc[(Data_X_Weekdays['hour_minute'] > '1900-01-01 16:00:00') &\n",
    "                    (Data_X_Weekdays['hour_minute'] < '1900-01-01 20:00:00'),'Time_Of_Day'] = 'PM_Peak'\n",
    "\n",
    "# View\n",
    "Data_X_Weekdays.head()"
   ]
  },
  {
   "cell_type": "markdown",
   "metadata": {},
   "source": [
    "Then, we can use the pandas function 'get_dummies' to quickly generate a one-hot encoded DataFrame as shown below."
   ]
  },
  {
   "cell_type": "code",
   "execution_count": 146,
   "metadata": {},
   "outputs": [
    {
     "data": {
      "text/html": [
       "<div>\n",
       "<style scoped>\n",
       "    .dataframe tbody tr th:only-of-type {\n",
       "        vertical-align: middle;\n",
       "    }\n",
       "\n",
       "    .dataframe tbody tr th {\n",
       "        vertical-align: top;\n",
       "    }\n",
       "\n",
       "    .dataframe thead th {\n",
       "        text-align: right;\n",
       "    }\n",
       "</style>\n",
       "<table border=\"1\" class=\"dataframe\">\n",
       "  <thead>\n",
       "    <tr style=\"text-align: right;\">\n",
       "      <th></th>\n",
       "      <th>TOD_AM_Peak</th>\n",
       "      <th>TOD_Midday</th>\n",
       "      <th>TOD_PM_Peak</th>\n",
       "    </tr>\n",
       "  </thead>\n",
       "  <tbody>\n",
       "    <tr>\n",
       "      <th>0</th>\n",
       "      <td>0</td>\n",
       "      <td>1</td>\n",
       "      <td>0</td>\n",
       "    </tr>\n",
       "    <tr>\n",
       "      <th>1</th>\n",
       "      <td>0</td>\n",
       "      <td>1</td>\n",
       "      <td>0</td>\n",
       "    </tr>\n",
       "    <tr>\n",
       "      <th>2</th>\n",
       "      <td>0</td>\n",
       "      <td>1</td>\n",
       "      <td>0</td>\n",
       "    </tr>\n",
       "    <tr>\n",
       "      <th>3</th>\n",
       "      <td>0</td>\n",
       "      <td>1</td>\n",
       "      <td>0</td>\n",
       "    </tr>\n",
       "    <tr>\n",
       "      <th>4</th>\n",
       "      <td>0</td>\n",
       "      <td>1</td>\n",
       "      <td>0</td>\n",
       "    </tr>\n",
       "  </tbody>\n",
       "</table>\n",
       "</div>"
      ],
      "text/plain": [
       "   TOD_AM_Peak  TOD_Midday  TOD_PM_Peak\n",
       "0            0           1            0\n",
       "1            0           1            0\n",
       "2            0           1            0\n",
       "3            0           1            0\n",
       "4            0           1            0"
      ]
     },
     "execution_count": 146,
     "metadata": {},
     "output_type": "execute_result"
    }
   ],
   "source": [
    "Time_of_Day = pd.get_dummies(Data_X_Weekdays['Time_Of_Day'],drop_first=True,prefix='TOD')\n",
    "Time_of_Day.head()"
   ]
  },
  {
   "cell_type": "code",
   "execution_count": 147,
   "metadata": {},
   "outputs": [
    {
     "data": {
      "text/html": [
       "<div>\n",
       "<style scoped>\n",
       "    .dataframe tbody tr th:only-of-type {\n",
       "        vertical-align: middle;\n",
       "    }\n",
       "\n",
       "    .dataframe tbody tr th {\n",
       "        vertical-align: top;\n",
       "    }\n",
       "\n",
       "    .dataframe thead th {\n",
       "        text-align: right;\n",
       "    }\n",
       "</style>\n",
       "<table border=\"1\" class=\"dataframe\">\n",
       "  <thead>\n",
       "    <tr style=\"text-align: right;\">\n",
       "      <th></th>\n",
       "      <th>Price</th>\n",
       "      <th>Duration</th>\n",
       "      <th>Distance</th>\n",
       "      <th>Wait_Time</th>\n",
       "      <th>hour_minute</th>\n",
       "      <th>Time_Of_Day</th>\n",
       "    </tr>\n",
       "  </thead>\n",
       "  <tbody>\n",
       "    <tr>\n",
       "      <th>0</th>\n",
       "      <td>8.71</td>\n",
       "      <td>960</td>\n",
       "      <td>3.27</td>\n",
       "      <td>4</td>\n",
       "      <td>1900-01-01 09:51:00</td>\n",
       "      <td>Midday</td>\n",
       "    </tr>\n",
       "    <tr>\n",
       "      <th>1</th>\n",
       "      <td>8.71</td>\n",
       "      <td>960</td>\n",
       "      <td>3.27</td>\n",
       "      <td>3</td>\n",
       "      <td>1900-01-01 09:55:00</td>\n",
       "      <td>Midday</td>\n",
       "    </tr>\n",
       "    <tr>\n",
       "      <th>2</th>\n",
       "      <td>8.71</td>\n",
       "      <td>960</td>\n",
       "      <td>3.27</td>\n",
       "      <td>2</td>\n",
       "      <td>1900-01-01 09:56:00</td>\n",
       "      <td>Midday</td>\n",
       "    </tr>\n",
       "    <tr>\n",
       "      <th>3</th>\n",
       "      <td>8.71</td>\n",
       "      <td>960</td>\n",
       "      <td>3.27</td>\n",
       "      <td>2</td>\n",
       "      <td>1900-01-01 09:57:00</td>\n",
       "      <td>Midday</td>\n",
       "    </tr>\n",
       "    <tr>\n",
       "      <th>4</th>\n",
       "      <td>8.71</td>\n",
       "      <td>960</td>\n",
       "      <td>3.27</td>\n",
       "      <td>4</td>\n",
       "      <td>1900-01-01 09:59:00</td>\n",
       "      <td>Midday</td>\n",
       "    </tr>\n",
       "  </tbody>\n",
       "</table>\n",
       "</div>"
      ],
      "text/plain": [
       "   Price  Duration  Distance  Wait_Time         hour_minute Time_Of_Day\n",
       "0   8.71       960      3.27          4 1900-01-01 09:51:00      Midday\n",
       "1   8.71       960      3.27          3 1900-01-01 09:55:00      Midday\n",
       "2   8.71       960      3.27          2 1900-01-01 09:56:00      Midday\n",
       "3   8.71       960      3.27          2 1900-01-01 09:57:00      Midday\n",
       "4   8.71       960      3.27          4 1900-01-01 09:59:00      Midday"
      ]
     },
     "execution_count": 147,
     "metadata": {},
     "output_type": "execute_result"
    }
   ],
   "source": [
    "# Merge the two DataFrames\n",
    "model_df = pd.merge(Data_X_Weekdays,Time_of_Day,left_index=True,right_index=True)\n",
    "\n",
    "# Drop 'hour_minute' and 'Time_Of_Day' to clean up\n",
    "model_df = model_df.drop(columns=['hour_minute','Time_Of_Day'])\n",
    "\n",
    "# Quick View\n",
    "Data_X_Weekdays.head()"
   ]
  },
  {
   "cell_type": "markdown",
   "metadata": {},
   "source": [
    "Now the data is ready for regression analysis."
   ]
  },
  {
   "cell_type": "markdown",
   "metadata": {},
   "source": [
    "### Let's first take a look at the correlation matrices."
   ]
  },
  {
   "cell_type": "code",
   "execution_count": 148,
   "metadata": {},
   "outputs": [
    {
     "data": {
      "text/html": [
       "<div>\n",
       "<style scoped>\n",
       "    .dataframe tbody tr th:only-of-type {\n",
       "        vertical-align: middle;\n",
       "    }\n",
       "\n",
       "    .dataframe tbody tr th {\n",
       "        vertical-align: top;\n",
       "    }\n",
       "\n",
       "    .dataframe thead th {\n",
       "        text-align: right;\n",
       "    }\n",
       "</style>\n",
       "<table border=\"1\" class=\"dataframe\">\n",
       "  <thead>\n",
       "    <tr style=\"text-align: right;\">\n",
       "      <th></th>\n",
       "      <th>Price</th>\n",
       "      <th>Duration</th>\n",
       "      <th>Distance</th>\n",
       "      <th>Wait_Time</th>\n",
       "      <th>TOD_AM_Peak</th>\n",
       "      <th>TOD_Midday</th>\n",
       "      <th>TOD_PM_Peak</th>\n",
       "    </tr>\n",
       "  </thead>\n",
       "  <tbody>\n",
       "    <tr>\n",
       "      <th>Price</th>\n",
       "      <td>1.000000</td>\n",
       "      <td>0.700839</td>\n",
       "      <td>0.484140</td>\n",
       "      <td>-0.169339</td>\n",
       "      <td>0.012708</td>\n",
       "      <td>0.421560</td>\n",
       "      <td>0.225994</td>\n",
       "    </tr>\n",
       "    <tr>\n",
       "      <th>Duration</th>\n",
       "      <td>0.700839</td>\n",
       "      <td>1.000000</td>\n",
       "      <td>0.329317</td>\n",
       "      <td>-0.268228</td>\n",
       "      <td>0.184667</td>\n",
       "      <td>0.358283</td>\n",
       "      <td>0.302478</td>\n",
       "    </tr>\n",
       "    <tr>\n",
       "      <th>Distance</th>\n",
       "      <td>0.484140</td>\n",
       "      <td>0.329317</td>\n",
       "      <td>1.000000</td>\n",
       "      <td>-0.033255</td>\n",
       "      <td>-0.062323</td>\n",
       "      <td>0.213913</td>\n",
       "      <td>0.007354</td>\n",
       "    </tr>\n",
       "    <tr>\n",
       "      <th>Wait_Time</th>\n",
       "      <td>-0.169339</td>\n",
       "      <td>-0.268228</td>\n",
       "      <td>-0.033255</td>\n",
       "      <td>1.000000</td>\n",
       "      <td>0.004404</td>\n",
       "      <td>-0.099490</td>\n",
       "      <td>-0.102817</td>\n",
       "    </tr>\n",
       "    <tr>\n",
       "      <th>TOD_AM_Peak</th>\n",
       "      <td>0.012708</td>\n",
       "      <td>0.184667</td>\n",
       "      <td>-0.062323</td>\n",
       "      <td>0.004404</td>\n",
       "      <td>1.000000</td>\n",
       "      <td>-0.189939</td>\n",
       "      <td>-0.132777</td>\n",
       "    </tr>\n",
       "    <tr>\n",
       "      <th>TOD_Midday</th>\n",
       "      <td>0.421560</td>\n",
       "      <td>0.358283</td>\n",
       "      <td>0.213913</td>\n",
       "      <td>-0.099490</td>\n",
       "      <td>-0.189939</td>\n",
       "      <td>1.000000</td>\n",
       "      <td>-0.380781</td>\n",
       "    </tr>\n",
       "    <tr>\n",
       "      <th>TOD_PM_Peak</th>\n",
       "      <td>0.225994</td>\n",
       "      <td>0.302478</td>\n",
       "      <td>0.007354</td>\n",
       "      <td>-0.102817</td>\n",
       "      <td>-0.132777</td>\n",
       "      <td>-0.380781</td>\n",
       "      <td>1.000000</td>\n",
       "    </tr>\n",
       "  </tbody>\n",
       "</table>\n",
       "</div>"
      ],
      "text/plain": [
       "                Price  Duration  Distance  Wait_Time  TOD_AM_Peak  TOD_Midday  \\\n",
       "Price        1.000000  0.700839  0.484140  -0.169339     0.012708    0.421560   \n",
       "Duration     0.700839  1.000000  0.329317  -0.268228     0.184667    0.358283   \n",
       "Distance     0.484140  0.329317  1.000000  -0.033255    -0.062323    0.213913   \n",
       "Wait_Time   -0.169339 -0.268228 -0.033255   1.000000     0.004404   -0.099490   \n",
       "TOD_AM_Peak  0.012708  0.184667 -0.062323   0.004404     1.000000   -0.189939   \n",
       "TOD_Midday   0.421560  0.358283  0.213913  -0.099490    -0.189939    1.000000   \n",
       "TOD_PM_Peak  0.225994  0.302478  0.007354  -0.102817    -0.132777   -0.380781   \n",
       "\n",
       "             TOD_PM_Peak  \n",
       "Price           0.225994  \n",
       "Duration        0.302478  \n",
       "Distance        0.007354  \n",
       "Wait_Time      -0.102817  \n",
       "TOD_AM_Peak    -0.132777  \n",
       "TOD_Midday     -0.380781  \n",
       "TOD_PM_Peak     1.000000  "
      ]
     },
     "execution_count": 148,
     "metadata": {},
     "output_type": "execute_result"
    }
   ],
   "source": [
    "model_df.corr()"
   ]
  },
  {
   "cell_type": "markdown",
   "metadata": {},
   "source": [
    "Here, we observe that Duration, Distance, and Time of Day (specifically Midday) have the highest correlation to Price.\n",
    "\n",
    "However, in the setup of our data collection, distance was fixed for each API request. We hence look at Duration and Time of Day. Although the correlation coefficients vary greatly among the three Time of Day columns (0.01 to 0.42), we will first include all three in this exercise and improve the model as we go along. We observe that Duration and Time have relatively low correlation with each other (0.18 to 0.36). We thus begin regression analysis with Duration as the predictor.\n",
    "\n",
    "Let's visualize these two features."
   ]
  },
  {
   "cell_type": "markdown",
   "metadata": {},
   "source": [
    "**Price vs Estimated Trip Duration**"
   ]
  },
  {
   "cell_type": "code",
   "execution_count": 149,
   "metadata": {
    "scrolled": false
   },
   "outputs": [
    {
     "data": {
      "image/png": "[encoded data removed]",
      "text/plain": [
       "<Figure size 1152x576 with 1 Axes>"
      ]
     },
     "metadata": {},
     "output_type": "display_data"
    }
   ],
   "source": [
    "plt.figure(figsize=(16,8))\n",
    "plt.scatter(Data_X_Weekdays['Duration'],Data_X_Weekdays['Price'],alpha=0.1)\n",
    "plt.title('Price vs Estimated Trip Duration')\n",
    "plt.xlabel('Estimated Trip Duration (s)')\n",
    "plt.ylabel('Trip Price ($)')\n",
    "\n",
    "plt.show()"
   ]
  },
  {
   "cell_type": "markdown",
   "metadata": {},
   "source": [
    "**Price vs Time of Day**"
   ]
  },
  {
   "cell_type": "code",
   "execution_count": 150,
   "metadata": {},
   "outputs": [
    {
     "data": {
      "image/png": "[encoded data removed]",
      "text/plain": [
       "<Figure size 1152x576 with 1 Axes>"
      ]
     },
     "metadata": {},
     "output_type": "display_data"
    }
   ],
   "source": [
    "data_sorted = Data_X_Weekdays.sort_values(by=['Time_Of_Day'])\n",
    "\n",
    "plt.figure(figsize=(16,8))\n",
    "\n",
    "plt.scatter(x=data_sorted['Time_Of_Day'],y=data_sorted['Price'],alpha=0.5)\n",
    "plt.title('Price vs Time of Day')\n",
    "plt.xlabel('Time of Day')\n",
    "plt.ylabel('Trip Price ($)')\n",
    "\n",
    "plt.show()"
   ]
  },
  {
   "cell_type": "markdown",
   "metadata": {},
   "source": [
    "The overall shape of Price vs Estimated Trip Duration validates the correlation calculated above. The Time of Day variable also has a similar trend present, but not as strongly."
   ]
  },
  {
   "cell_type": "markdown",
   "metadata": {},
   "source": [
    "### Now we fit an OLS Regression Model.\n",
    "  \n",
    "First, we start with Duration as the sole predictor, being the feature most correlated to price."
   ]
  },
  {
   "cell_type": "code",
   "execution_count": 151,
   "metadata": {},
   "outputs": [
    {
     "data": {
      "text/html": [
       "<table class=\"simpletable\">\n",
       "<caption>OLS Regression Results</caption>\n",
       "<tr>\n",
       "  <th>Dep. Variable:</th>          <td>Price</td>      <th>  R-squared:         </th> <td>   0.491</td>\n",
       "</tr>\n",
       "<tr>\n",
       "  <th>Model:</th>                   <td>OLS</td>       <th>  Adj. R-squared:    </th> <td>   0.491</td>\n",
       "</tr>\n",
       "<tr>\n",
       "  <th>Method:</th>             <td>Least Squares</td>  <th>  F-statistic:       </th> <td>   4567.</td>\n",
       "</tr>\n",
       "<tr>\n",
       "  <th>Date:</th>             <td>Fri, 14 Dec 2018</td> <th>  Prob (F-statistic):</th>  <td>  0.00</td> \n",
       "</tr>\n",
       "<tr>\n",
       "  <th>Time:</th>                 <td>00:48:48</td>     <th>  Log-Likelihood:    </th> <td> -2389.2</td>\n",
       "</tr>\n",
       "<tr>\n",
       "  <th>No. Observations:</th>      <td>  4733</td>      <th>  AIC:               </th> <td>   4782.</td>\n",
       "</tr>\n",
       "<tr>\n",
       "  <th>Df Residuals:</th>          <td>  4731</td>      <th>  BIC:               </th> <td>   4795.</td>\n",
       "</tr>\n",
       "<tr>\n",
       "  <th>Df Model:</th>              <td>     1</td>      <th>                     </th>     <td> </td>   \n",
       "</tr>\n",
       "<tr>\n",
       "  <th>Covariance Type:</th>      <td>nonrobust</td>    <th>                     </th>     <td> </td>   \n",
       "</tr>\n",
       "</table>\n",
       "<table class=\"simpletable\">\n",
       "<tr>\n",
       "      <td></td>         <th>coef</th>     <th>std err</th>      <th>t</th>      <th>P>|t|</th>  <th>[0.025</th>    <th>0.975]</th>  \n",
       "</tr>\n",
       "<tr>\n",
       "  <th>Intercept</th> <td>    5.5927</td> <td>    0.040</td> <td>  139.615</td> <td> 0.000</td> <td>    5.514</td> <td>    5.671</td>\n",
       "</tr>\n",
       "<tr>\n",
       "  <th>Duration</th>  <td>    0.0039</td> <td> 5.72e-05</td> <td>   67.579</td> <td> 0.000</td> <td>    0.004</td> <td>    0.004</td>\n",
       "</tr>\n",
       "</table>\n",
       "<table class=\"simpletable\">\n",
       "<tr>\n",
       "  <th>Omnibus:</th>       <td>4410.959</td> <th>  Durbin-Watson:     </th>  <td>   0.242</td> \n",
       "</tr>\n",
       "<tr>\n",
       "  <th>Prob(Omnibus):</th>  <td> 0.000</td>  <th>  Jarque-Bera (JB):  </th> <td>367206.830</td>\n",
       "</tr>\n",
       "<tr>\n",
       "  <th>Skew:</th>           <td> 4.197</td>  <th>  Prob(JB):          </th>  <td>    0.00</td> \n",
       "</tr>\n",
       "<tr>\n",
       "  <th>Kurtosis:</th>       <td>45.327</td>  <th>  Cond. No.          </th>  <td>4.81e+03</td> \n",
       "</tr>\n",
       "</table><br/><br/>Warnings:<br/>[1] Standard Errors assume that the covariance matrix of the errors is correctly specified.<br/>[2] The condition number is large, 4.81e+03. This might indicate that there are<br/>strong multicollinearity or other numerical problems."
      ],
      "text/plain": [
       "<class 'statsmodels.iolib.summary.Summary'>\n",
       "\"\"\"\n",
       "                            OLS Regression Results                            \n",
       "==============================================================================\n",
       "Dep. Variable:                  Price   R-squared:                       0.491\n",
       "Model:                            OLS   Adj. R-squared:                  0.491\n",
       "Method:                 Least Squares   F-statistic:                     4567.\n",
       "Date:                Fri, 14 Dec 2018   Prob (F-statistic):               0.00\n",
       "Time:                        00:48:48   Log-Likelihood:                -2389.2\n",
       "No. Observations:                4733   AIC:                             4782.\n",
       "Df Residuals:                    4731   BIC:                             4795.\n",
       "Df Model:                           1                                         \n",
       "Covariance Type:            nonrobust                                         \n",
       "==============================================================================\n",
       "                 coef    std err          t      P>|t|      [0.025      0.975]\n",
       "------------------------------------------------------------------------------\n",
       "Intercept      5.5927      0.040    139.615      0.000       5.514       5.671\n",
       "Duration       0.0039   5.72e-05     67.579      0.000       0.004       0.004\n",
       "==============================================================================\n",
       "Omnibus:                     4410.959   Durbin-Watson:                   0.242\n",
       "Prob(Omnibus):                  0.000   Jarque-Bera (JB):           367206.830\n",
       "Skew:                           4.197   Prob(JB):                         0.00\n",
       "Kurtosis:                      45.327   Cond. No.                     4.81e+03\n",
       "==============================================================================\n",
       "\n",
       "Warnings:\n",
       "[1] Standard Errors assume that the covariance matrix of the errors is correctly specified.\n",
       "[2] The condition number is large, 4.81e+03. This might indicate that there are\n",
       "strong multicollinearity or other numerical problems.\n",
       "\"\"\""
      ]
     },
     "execution_count": 151,
     "metadata": {},
     "output_type": "execute_result"
    }
   ],
   "source": [
    "model = ols(formula=\"Price ~ Duration\", data=model_df)\n",
    "results = model.fit()\n",
    "results.summary()"
   ]
  },
  {
   "cell_type": "markdown",
   "metadata": {},
   "source": [
    "We can see that the regression model here performs decently, but R-squared is relatively low. This could indicate that the relationship is not linear and/or that there are other factors affecting price. Let us try introducing another variable, the Time of Day."
   ]
  },
  {
   "cell_type": "code",
   "execution_count": 152,
   "metadata": {},
   "outputs": [
    {
     "data": {
      "text/html": [
       "<table class=\"simpletable\">\n",
       "<caption>OLS Regression Results</caption>\n",
       "<tr>\n",
       "  <th>Dep. Variable:</th>          <td>Price</td>      <th>  R-squared:         </th> <td>   0.544</td>\n",
       "</tr>\n",
       "<tr>\n",
       "  <th>Model:</th>                   <td>OLS</td>       <th>  Adj. R-squared:    </th> <td>   0.543</td>\n",
       "</tr>\n",
       "<tr>\n",
       "  <th>Method:</th>             <td>Least Squares</td>  <th>  F-statistic:       </th> <td>   1408.</td>\n",
       "</tr>\n",
       "<tr>\n",
       "  <th>Date:</th>             <td>Fri, 14 Dec 2018</td> <th>  Prob (F-statistic):</th>  <td>  0.00</td> \n",
       "</tr>\n",
       "<tr>\n",
       "  <th>Time:</th>                 <td>00:48:50</td>     <th>  Log-Likelihood:    </th> <td> -2131.9</td>\n",
       "</tr>\n",
       "<tr>\n",
       "  <th>No. Observations:</th>      <td>  4733</td>      <th>  AIC:               </th> <td>   4274.</td>\n",
       "</tr>\n",
       "<tr>\n",
       "  <th>Df Residuals:</th>          <td>  4728</td>      <th>  BIC:               </th> <td>   4306.</td>\n",
       "</tr>\n",
       "<tr>\n",
       "  <th>Df Model:</th>              <td>     4</td>      <th>                     </th>     <td> </td>   \n",
       "</tr>\n",
       "<tr>\n",
       "  <th>Covariance Type:</th>      <td>nonrobust</td>    <th>                     </th>     <td> </td>   \n",
       "</tr>\n",
       "</table>\n",
       "<table class=\"simpletable\">\n",
       "<tr>\n",
       "       <td></td>          <th>coef</th>     <th>std err</th>      <th>t</th>      <th>P>|t|</th>  <th>[0.025</th>    <th>0.975]</th>  \n",
       "</tr>\n",
       "<tr>\n",
       "  <th>Intercept</th>   <td>    6.0017</td> <td>    0.047</td> <td>  128.689</td> <td> 0.000</td> <td>    5.910</td> <td>    6.093</td>\n",
       "</tr>\n",
       "<tr>\n",
       "  <th>Duration</th>    <td>    0.0030</td> <td> 7.62e-05</td> <td>   39.882</td> <td> 0.000</td> <td>    0.003</td> <td>    0.003</td>\n",
       "</tr>\n",
       "<tr>\n",
       "  <th>TOD_AM_Peak</th> <td>   -0.0297</td> <td>    0.027</td> <td>   -1.099</td> <td> 0.272</td> <td>   -0.083</td> <td>    0.023</td>\n",
       "</tr>\n",
       "<tr>\n",
       "  <th>TOD_Midday</th>  <td>    0.3354</td> <td>    0.017</td> <td>   19.901</td> <td> 0.000</td> <td>    0.302</td> <td>    0.368</td>\n",
       "</tr>\n",
       "<tr>\n",
       "  <th>TOD_PM_Peak</th> <td>    0.2293</td> <td>    0.019</td> <td>   12.087</td> <td> 0.000</td> <td>    0.192</td> <td>    0.267</td>\n",
       "</tr>\n",
       "</table>\n",
       "<table class=\"simpletable\">\n",
       "<tr>\n",
       "  <th>Omnibus:</th>       <td>4751.630</td> <th>  Durbin-Watson:     </th>  <td>   0.273</td> \n",
       "</tr>\n",
       "<tr>\n",
       "  <th>Prob(Omnibus):</th>  <td> 0.000</td>  <th>  Jarque-Bera (JB):  </th> <td>525460.201</td>\n",
       "</tr>\n",
       "<tr>\n",
       "  <th>Skew:</th>           <td> 4.661</td>  <th>  Prob(JB):          </th>  <td>    0.00</td> \n",
       "</tr>\n",
       "<tr>\n",
       "  <th>Kurtosis:</th>       <td>53.770</td>  <th>  Cond. No.          </th>  <td>6.41e+03</td> \n",
       "</tr>\n",
       "</table><br/><br/>Warnings:<br/>[1] Standard Errors assume that the covariance matrix of the errors is correctly specified.<br/>[2] The condition number is large, 6.41e+03. This might indicate that there are<br/>strong multicollinearity or other numerical problems."
      ],
      "text/plain": [
       "<class 'statsmodels.iolib.summary.Summary'>\n",
       "\"\"\"\n",
       "                            OLS Regression Results                            \n",
       "==============================================================================\n",
       "Dep. Variable:                  Price   R-squared:                       0.544\n",
       "Model:                            OLS   Adj. R-squared:                  0.543\n",
       "Method:                 Least Squares   F-statistic:                     1408.\n",
       "Date:                Fri, 14 Dec 2018   Prob (F-statistic):               0.00\n",
       "Time:                        00:48:50   Log-Likelihood:                -2131.9\n",
       "No. Observations:                4733   AIC:                             4274.\n",
       "Df Residuals:                    4728   BIC:                             4306.\n",
       "Df Model:                           4                                         \n",
       "Covariance Type:            nonrobust                                         \n",
       "===============================================================================\n",
       "                  coef    std err          t      P>|t|      [0.025      0.975]\n",
       "-------------------------------------------------------------------------------\n",
       "Intercept       6.0017      0.047    128.689      0.000       5.910       6.093\n",
       "Duration        0.0030   7.62e-05     39.882      0.000       0.003       0.003\n",
       "TOD_AM_Peak    -0.0297      0.027     -1.099      0.272      -0.083       0.023\n",
       "TOD_Midday      0.3354      0.017     19.901      0.000       0.302       0.368\n",
       "TOD_PM_Peak     0.2293      0.019     12.087      0.000       0.192       0.267\n",
       "==============================================================================\n",
       "Omnibus:                     4751.630   Durbin-Watson:                   0.273\n",
       "Prob(Omnibus):                  0.000   Jarque-Bera (JB):           525460.201\n",
       "Skew:                           4.661   Prob(JB):                         0.00\n",
       "Kurtosis:                      53.770   Cond. No.                     6.41e+03\n",
       "==============================================================================\n",
       "\n",
       "Warnings:\n",
       "[1] Standard Errors assume that the covariance matrix of the errors is correctly specified.\n",
       "[2] The condition number is large, 6.41e+03. This might indicate that there are\n",
       "strong multicollinearity or other numerical problems.\n",
       "\"\"\""
      ]
     },
     "execution_count": 152,
     "metadata": {},
     "output_type": "execute_result"
    }
   ],
   "source": [
    "model = ols(formula=\"Price ~ Duration + TOD_AM_Peak + TOD_Midday + TOD_PM_Peak\", data=model_df)\n",
    "results = model.fit()\n",
    "results.summary()"
   ]
  },
  {
   "cell_type": "markdown",
   "metadata": {},
   "source": [
    "We observe that the adjusted R-squared fit improved from 0.491 to 0.543. Although this is an improvement, this also means that there is much to the data left unexplained by our independent variables.\n",
    "\n",
    "We also observe that most of the P-values of the coefficient estimators are very low, indicating strength in the estimators for the coefficients of the regression. However, the p-value for the slope of 'TOD_AM_Peak' is very high at 0.272. This means that we cannot reject the null hypothesis that the slope of 'TOD_AM_Peak' equals zero. Intuitively, this makes sense as the correlation coefficient we obtained for this variable in the previous section was low at 0.01. Hence, we could opt to remove the variable from the model, which is shown below."
   ]
  },
  {
   "cell_type": "code",
   "execution_count": 153,
   "metadata": {},
   "outputs": [
    {
     "data": {
      "text/html": [
       "<table class=\"simpletable\">\n",
       "<caption>OLS Regression Results</caption>\n",
       "<tr>\n",
       "  <th>Dep. Variable:</th>          <td>Price</td>      <th>  R-squared:         </th> <td>   0.543</td>\n",
       "</tr>\n",
       "<tr>\n",
       "  <th>Model:</th>                   <td>OLS</td>       <th>  Adj. R-squared:    </th> <td>   0.543</td>\n",
       "</tr>\n",
       "<tr>\n",
       "  <th>Method:</th>             <td>Least Squares</td>  <th>  F-statistic:       </th> <td>   1877.</td>\n",
       "</tr>\n",
       "<tr>\n",
       "  <th>Date:</th>             <td>Fri, 14 Dec 2018</td> <th>  Prob (F-statistic):</th>  <td>  0.00</td> \n",
       "</tr>\n",
       "<tr>\n",
       "  <th>Time:</th>                 <td>01:07:40</td>     <th>  Log-Likelihood:    </th> <td> -2132.5</td>\n",
       "</tr>\n",
       "<tr>\n",
       "  <th>No. Observations:</th>      <td>  4733</td>      <th>  AIC:               </th> <td>   4273.</td>\n",
       "</tr>\n",
       "<tr>\n",
       "  <th>Df Residuals:</th>          <td>  4729</td>      <th>  BIC:               </th> <td>   4299.</td>\n",
       "</tr>\n",
       "<tr>\n",
       "  <th>Df Model:</th>              <td>     3</td>      <th>                     </th>     <td> </td>   \n",
       "</tr>\n",
       "<tr>\n",
       "  <th>Covariance Type:</th>      <td>nonrobust</td>    <th>                     </th>     <td> </td>   \n",
       "</tr>\n",
       "</table>\n",
       "<table class=\"simpletable\">\n",
       "<tr>\n",
       "       <td></td>          <th>coef</th>     <th>std err</th>      <th>t</th>      <th>P>|t|</th>  <th>[0.025</th>    <th>0.975]</th>  \n",
       "</tr>\n",
       "<tr>\n",
       "  <th>Intercept</th>   <td>    6.0218</td> <td>    0.043</td> <td>  140.372</td> <td> 0.000</td> <td>    5.938</td> <td>    6.106</td>\n",
       "</tr>\n",
       "<tr>\n",
       "  <th>Duration</th>    <td>    0.0030</td> <td> 6.74e-05</td> <td>   44.485</td> <td> 0.000</td> <td>    0.003</td> <td>    0.003</td>\n",
       "</tr>\n",
       "<tr>\n",
       "  <th>TOD_Midday</th>  <td>    0.3442</td> <td>    0.015</td> <td>   23.229</td> <td> 0.000</td> <td>    0.315</td> <td>    0.373</td>\n",
       "</tr>\n",
       "<tr>\n",
       "  <th>TOD_PM_Peak</th> <td>    0.2386</td> <td>    0.017</td> <td>   14.018</td> <td> 0.000</td> <td>    0.205</td> <td>    0.272</td>\n",
       "</tr>\n",
       "</table>\n",
       "<table class=\"simpletable\">\n",
       "<tr>\n",
       "  <th>Omnibus:</th>       <td>4757.406</td> <th>  Durbin-Watson:     </th>  <td>   0.273</td> \n",
       "</tr>\n",
       "<tr>\n",
       "  <th>Prob(Omnibus):</th>  <td> 0.000</td>  <th>  Jarque-Bera (JB):  </th> <td>526474.905</td>\n",
       "</tr>\n",
       "<tr>\n",
       "  <th>Skew:</th>           <td> 4.670</td>  <th>  Prob(JB):          </th>  <td>    0.00</td> \n",
       "</tr>\n",
       "<tr>\n",
       "  <th>Kurtosis:</th>       <td>53.817</td>  <th>  Cond. No.          </th>  <td>5.59e+03</td> \n",
       "</tr>\n",
       "</table><br/><br/>Warnings:<br/>[1] Standard Errors assume that the covariance matrix of the errors is correctly specified.<br/>[2] The condition number is large, 5.59e+03. This might indicate that there are<br/>strong multicollinearity or other numerical problems."
      ],
      "text/plain": [
       "<class 'statsmodels.iolib.summary.Summary'>\n",
       "\"\"\"\n",
       "                            OLS Regression Results                            \n",
       "==============================================================================\n",
       "Dep. Variable:                  Price   R-squared:                       0.543\n",
       "Model:                            OLS   Adj. R-squared:                  0.543\n",
       "Method:                 Least Squares   F-statistic:                     1877.\n",
       "Date:                Fri, 14 Dec 2018   Prob (F-statistic):               0.00\n",
       "Time:                        01:07:40   Log-Likelihood:                -2132.5\n",
       "No. Observations:                4733   AIC:                             4273.\n",
       "Df Residuals:                    4729   BIC:                             4299.\n",
       "Df Model:                           3                                         \n",
       "Covariance Type:            nonrobust                                         \n",
       "===============================================================================\n",
       "                  coef    std err          t      P>|t|      [0.025      0.975]\n",
       "-------------------------------------------------------------------------------\n",
       "Intercept       6.0218      0.043    140.372      0.000       5.938       6.106\n",
       "Duration        0.0030   6.74e-05     44.485      0.000       0.003       0.003\n",
       "TOD_Midday      0.3442      0.015     23.229      0.000       0.315       0.373\n",
       "TOD_PM_Peak     0.2386      0.017     14.018      0.000       0.205       0.272\n",
       "==============================================================================\n",
       "Omnibus:                     4757.406   Durbin-Watson:                   0.273\n",
       "Prob(Omnibus):                  0.000   Jarque-Bera (JB):           526474.905\n",
       "Skew:                           4.670   Prob(JB):                         0.00\n",
       "Kurtosis:                      53.817   Cond. No.                     5.59e+03\n",
       "==============================================================================\n",
       "\n",
       "Warnings:\n",
       "[1] Standard Errors assume that the covariance matrix of the errors is correctly specified.\n",
       "[2] The condition number is large, 5.59e+03. This might indicate that there are\n",
       "strong multicollinearity or other numerical problems.\n",
       "\"\"\""
      ]
     },
     "execution_count": 153,
     "metadata": {},
     "output_type": "execute_result"
    }
   ],
   "source": [
    "model = ols(formula=\"Price ~ Duration + TOD_Midday + TOD_PM_Peak\", data=model_df)\n",
    "results = model.fit()\n",
    "results.summary()"
   ]
  },
  {
   "cell_type": "markdown",
   "metadata": {},
   "source": [
    "We can see here that after removing 'TOD_AM_Peak' as a variable, the adjusted R-squared stayed the same, but other indicators like AIC and BIC improved showing a reduction in overfitting and a better bias-variance balance than the previous model, without reducing the quality of the regression.\n",
    "\n",
    "Looking deeper into the characteristics of the final model, we observe that the value of the intercept is quite high. This value of intercept means that if all the variables have a value of 0, the price would be \\$6.02. Because the AM Peak and Night Time of Day categories are not included in the model, the price values for these two times of day are incorporated in the intercept. This could also indicate a base price that Uber imposes and/or that there are other factors not accounted for in the model, as the R-squared fit suggests.\n",
    "\n",
    "Furthermore, the coefficient for duration is very low at 0.003. This is primarily due to the fact that the values of the Duration variable are very high, with its units expressed in seconds. Depending on the purpose of the regression, one way to address this is to standardize all the variables.\n",
    "\n",
    "On the other hand, TOD_Midday and TOD_PM_Peak are directly comparable since their values are only either 0 or 1. Looking at the values of their coefficients, we can surmise that whether a trip happens during midday has a bigger impact to price than whether it happens during the PM peak. Looking back to the distribution of price vs time of day, this also makes sense as the most high-priced trips seem to occur during midday."
   ]
  }
 ],
 "metadata": {
  "kernelspec": {
   "display_name": "learndata",
   "language": "python",
   "name": "learndata"
  },
  "language_info": {
   "codemirror_mode": {
    "name": "ipython",
    "version": 3
   },
   "file_extension": ".py",
   "mimetype": "text/x-python",
   "name": "python",
   "nbconvert_exporter": "python",
   "pygments_lexer": "ipython3",
   "version": "3.6.7"
  }
 },
 "nbformat": 4,
 "nbformat_minor": 2
}
